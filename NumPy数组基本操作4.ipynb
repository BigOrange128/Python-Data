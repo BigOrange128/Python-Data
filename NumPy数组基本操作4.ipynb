{
 "cells": [
  {
   "cell_type": "code",
   "execution_count": 71,
   "metadata": {},
   "outputs": [],
   "source": [
    "import numpy as np"
   ]
  },
  {
   "cell_type": "code",
   "execution_count": 2,
   "metadata": {},
   "outputs": [],
   "source": [
    "#线性代数"
   ]
  },
  {
   "cell_type": "code",
   "execution_count": 3,
   "metadata": {},
   "outputs": [],
   "source": [
    "x = np.array([[1., 2., 3.],[4., 5., 6.]])"
   ]
  },
  {
   "cell_type": "code",
   "execution_count": 4,
   "metadata": {},
   "outputs": [],
   "source": [
    "y = np.array([[6., 23.],[-1., 7],[8, 9]])"
   ]
  },
  {
   "cell_type": "code",
   "execution_count": 5,
   "metadata": {},
   "outputs": [
    {
     "data": {
      "text/plain": [
       "array([[1., 2., 3.],\n",
       "       [4., 5., 6.]])"
      ]
     },
     "execution_count": 5,
     "metadata": {},
     "output_type": "execute_result"
    }
   ],
   "source": [
    "x"
   ]
  },
  {
   "cell_type": "code",
   "execution_count": 8,
   "metadata": {},
   "outputs": [
    {
     "data": {
      "text/plain": [
       "array([[ 6., 23.],\n",
       "       [-1.,  7.],\n",
       "       [ 8.,  9.]])"
      ]
     },
     "execution_count": 8,
     "metadata": {},
     "output_type": "execute_result"
    }
   ],
   "source": [
    "y"
   ]
  },
  {
   "cell_type": "code",
   "execution_count": 7,
   "metadata": {},
   "outputs": [
    {
     "data": {
      "text/plain": [
       "array([[ 28.,  64.],\n",
       "       [ 67., 181.]])"
      ]
     },
     "execution_count": 7,
     "metadata": {},
     "output_type": "execute_result"
    }
   ],
   "source": [
    "x.dot(y)      #dot()矩阵点乘，等价于np.dot(x, y)\n",
    "#所得到的数组中的每个元素为，第一个矩阵中与该元素行号相同的元素与第二个矩阵与该元素列号相同的元素，两两相乘后再求和。"
   ]
  },
  {
   "cell_type": "code",
   "execution_count": 16,
   "metadata": {},
   "outputs": [],
   "source": [
    " x1 = np.arange(6).reshape((2, 3))"
   ]
  },
  {
   "cell_type": "code",
   "execution_count": 17,
   "metadata": {},
   "outputs": [
    {
     "data": {
      "text/plain": [
       "array([[0, 1, 2],\n",
       "       [3, 4, 5]])"
      ]
     },
     "execution_count": 17,
     "metadata": {},
     "output_type": "execute_result"
    }
   ],
   "source": [
    "x1"
   ]
  },
  {
   "cell_type": "code",
   "execution_count": 20,
   "metadata": {},
   "outputs": [],
   "source": [
    "x2 = np.arange(3, 9).reshape((2, 3))"
   ]
  },
  {
   "cell_type": "code",
   "execution_count": 21,
   "metadata": {},
   "outputs": [
    {
     "data": {
      "text/plain": [
       "array([[3, 4, 5],\n",
       "       [6, 7, 8]])"
      ]
     },
     "execution_count": 21,
     "metadata": {},
     "output_type": "execute_result"
    }
   ],
   "source": [
    "x2"
   ]
  },
  {
   "cell_type": "code",
   "execution_count": 23,
   "metadata": {},
   "outputs": [
    {
     "data": {
      "text/plain": [
       "array([[ 0,  4, 10],\n",
       "       [18, 28, 40]])"
      ]
     },
     "execution_count": 23,
     "metadata": {},
     "output_type": "execute_result"
    }
   ],
   "source": [
    "x1 * x2       #NumPy中的*是矩阵逐元素乘积"
   ]
  },
  {
   "cell_type": "code",
   "execution_count": 25,
   "metadata": {},
   "outputs": [
    {
     "data": {
      "text/plain": [
       "array([ 6., 15.])"
      ]
     },
     "execution_count": 25,
     "metadata": {},
     "output_type": "execute_result"
    }
   ],
   "source": [
    "np.dot(x, np.ones(3))"
   ]
  },
  {
   "cell_type": "code",
   "execution_count": 27,
   "metadata": {},
   "outputs": [
    {
     "data": {
      "text/plain": [
       "array([ 6., 15.])"
      ]
     },
     "execution_count": 27,
     "metadata": {},
     "output_type": "execute_result"
    }
   ],
   "source": [
    "x @ np.ones(3)     #特殊符号@也作为中缀操作符，用于点乘矩阵的操作"
   ]
  },
  {
   "cell_type": "code",
   "execution_count": 11,
   "metadata": {},
   "outputs": [],
   "source": [
    "from numpy.linalg import inv, qr  #numpy.linalg拥有一个矩阵分解的标准函数集，以及其他常用函数，例如求逆和行列式求解"
   ]
  },
  {
   "cell_type": "code",
   "execution_count": 12,
   "metadata": {},
   "outputs": [],
   "source": [
    "X = np.random.randn(5, 5)"
   ]
  },
  {
   "cell_type": "code",
   "execution_count": 13,
   "metadata": {},
   "outputs": [],
   "source": [
    "mat = X.T.dot(X)    #X.T.dot(X)计算的是X和它的转置矩阵X.T的点乘积"
   ]
  },
  {
   "cell_type": "code",
   "execution_count": 14,
   "metadata": {},
   "outputs": [
    {
     "data": {
      "text/plain": [
       "array([[ 4.02837469,  2.62135614,  5.78716946, 10.44560159,  1.76621611],\n",
       "       [ 2.62135614,  1.94615322,  3.8908566 ,  6.81997313,  1.21276941],\n",
       "       [ 5.78716946,  3.8908566 , 12.18804183, 18.34659063,  3.74892757],\n",
       "       [10.44560159,  6.81997313, 18.34659063, 30.62836479,  5.51589453],\n",
       "       [ 1.76621611,  1.21276941,  3.74892757,  5.51589453,  1.24655161]])"
      ]
     },
     "execution_count": 14,
     "metadata": {},
     "output_type": "execute_result"
    }
   ],
   "source": [
    "inv(mat)            #inv计算方阵的逆矩阵"
   ]
  },
  {
   "cell_type": "code",
   "execution_count": 21,
   "metadata": {},
   "outputs": [
    {
     "data": {
      "text/plain": [
       "array([[ 1.00000000e+00, -1.91059231e-15, -5.08346514e-15,\n",
       "        -5.80510021e-15,  5.70503638e-16],\n",
       "       [-9.87471531e-16,  1.00000000e+00,  3.11279842e-15,\n",
       "         1.53191703e-15, -5.51739263e-16],\n",
       "       [ 4.01995275e-15, -2.68094140e-16,  1.00000000e+00,\n",
       "        -2.31452360e-15, -1.39068519e-18],\n",
       "       [-1.63528086e-16,  2.24551589e-15, -1.22454527e-15,\n",
       "         1.00000000e+00, -1.10850598e-16],\n",
       "       [ 4.53273466e-15,  4.28715690e-16,  7.61909019e-15,\n",
       "         1.54393803e-14,  1.00000000e+00]])"
      ]
     },
     "execution_count": 21,
     "metadata": {},
     "output_type": "execute_result"
    }
   ],
   "source": [
    "mat.dot(inv(mat))"
   ]
  },
  {
   "cell_type": "code",
   "execution_count": 22,
   "metadata": {},
   "outputs": [],
   "source": [
    "q, r = qr(mat)"
   ]
  },
  {
   "cell_type": "code",
   "execution_count": 23,
   "metadata": {},
   "outputs": [
    {
     "data": {
      "text/plain": [
       "array([[-8.80305445,  4.32735931, -6.05947967,  4.2865938 ,  7.73120349],\n",
       "       [ 0.        , -3.62144761, -4.39964991,  1.78421421,  9.2508141 ],\n",
       "       [ 0.        ,  0.        , -3.28005264,  0.40861562,  8.59822088],\n",
       "       [ 0.        ,  0.        ,  0.        , -0.38915417,  2.08567841],\n",
       "       [ 0.        ,  0.        ,  0.        ,  0.        ,  0.14054738]])"
      ]
     },
     "execution_count": 23,
     "metadata": {},
     "output_type": "execute_result"
    }
   ],
   "source": [
    "r"
   ]
  },
  {
   "cell_type": "code",
   "execution_count": 24,
   "metadata": {},
   "outputs": [],
   "source": [
    "#伪随机数生成   它们是由具有确定性行为的算法根据随机数生成器中的随机数种子生成的。"
   ]
  },
  {
   "cell_type": "code",
   "execution_count": 41,
   "metadata": {},
   "outputs": [],
   "source": [
    "samples = np.random.normal(size = (4, 4))    #使用normal生成一个4x4的正态分布样本"
   ]
  },
  {
   "cell_type": "code",
   "execution_count": 42,
   "metadata": {},
   "outputs": [
    {
     "data": {
      "text/plain": [
       "array([[ 0.86371729, -0.12209157,  0.12471295, -0.32279481],\n",
       "       [ 0.84167471,  2.39096052,  0.07619959, -0.56644593],\n",
       "       [ 0.03614194, -2.0749776 ,  0.2477922 , -0.89715678],\n",
       "       [-0.13679483,  0.01828919,  0.75541398,  0.21526858]])"
      ]
     },
     "execution_count": 42,
     "metadata": {},
     "output_type": "execute_result"
    }
   ],
   "source": [
    "samples"
   ]
  },
  {
   "cell_type": "code",
   "execution_count": 43,
   "metadata": {},
   "outputs": [],
   "source": [
    "np.random.seed(1234)     #更改随机数种子"
   ]
  },
  {
   "cell_type": "code",
   "execution_count": 50,
   "metadata": {},
   "outputs": [],
   "source": [
    "rng = np.random.RandomState(1234)      #numpy.random中的数据生成函数公用一个全局随机数种子。\n",
    "                                       #可以使用RandomState()生成一个随机数生成器，使数据独立于其他的随机数状态"
   ]
  },
  {
   "cell_type": "code",
   "execution_count": 52,
   "metadata": {},
   "outputs": [
    {
     "data": {
      "text/plain": [
       "array([-0.15323616, -2.43250851,  0.50798434, -0.32403233, -1.51107661,\n",
       "       -0.87142207, -0.86482994,  0.60874908,  0.5616381 ,  1.51475038])"
      ]
     },
     "execution_count": 52,
     "metadata": {},
     "output_type": "execute_result"
    }
   ],
   "source": [
    "rng.randn(10)"
   ]
  },
  {
   "cell_type": "code",
   "execution_count": 54,
   "metadata": {},
   "outputs": [],
   "source": [
    "#随机漫步   从0开始，步进为1和-1，且两种步进发生的概率相等。"
   ]
  },
  {
   "cell_type": "code",
   "execution_count": 55,
   "metadata": {},
   "outputs": [],
   "source": [
    "nsteps = 1000"
   ]
  },
  {
   "cell_type": "code",
   "execution_count": 64,
   "metadata": {},
   "outputs": [],
   "source": [
    "draws = np.random.randint(0, 2, size=nsteps)"
   ]
  },
  {
   "cell_type": "code",
   "execution_count": 66,
   "metadata": {},
   "outputs": [],
   "source": [
    "steps = np.where(draws > 0, 1, -1)"
   ]
  },
  {
   "cell_type": "code",
   "execution_count": 69,
   "metadata": {},
   "outputs": [],
   "source": [
    "walk = steps.cumsum()"
   ]
  },
  {
   "cell_type": "code",
   "execution_count": 70,
   "metadata": {},
   "outputs": [
    {
     "data": {
      "text/plain": [
       "array([  1,   0,  -1,   0,   1,   2,   1,   2,   1,   0,   1,   2,   3,\n",
       "         4,   5,   6,   7,   8,   7,   8,   9,   8,   7,   6,   5,   4,\n",
       "         3,   4,   3,   2,   3,   2,   1,   0,  -1,   0,  -1,   0,  -1,\n",
       "        -2,  -3,  -2,  -3,  -4,  -3,  -4,  -3,  -2,  -3,  -2,  -3,  -2,\n",
       "        -1,  -2,  -3,  -4,  -3,  -2,  -3,  -2,  -3,  -4,  -3,  -2,  -1,\n",
       "         0,   1,   2,   3,   4,   5,   6,   7,   6,   5,   6,   5,   6,\n",
       "         7,   8,   9,  10,   9,  10,  11,  12,  13,  14,  15,  14,  15,\n",
       "        14,  13,  14,  13,  14,  13,  12,  11,  10,   9,   8,   9,  10,\n",
       "         9,  10,  11,  10,   9,   8,   9,   8,   7,   8,   9,  10,  11,\n",
       "        10,  11,  10,  11,  10,   9,   8,   9,  10,  11,  12,  13,  14,\n",
       "        13,  14,  15,  14,  13,  14,  13,  14,  13,  14,  15,  16,  15,\n",
       "        16,  15,  14,  13,  14,  13,  14,  15,  16,  17,  16,  17,  18,\n",
       "        19,  20,  21,  20,  19,  18,  17,  16,  17,  18,  17,  16,  15,\n",
       "        14,  13,  12,  13,  14,  13,  12,  11,  12,  13,  12,  11,  10,\n",
       "        11,  10,  11,  12,  13,  14,  15,  14,  13,  12,  11,  10,   9,\n",
       "        10,  11,  10,  11,  10,  11,  12,  11,  10,   9,  10,  11,  10,\n",
       "         9,  10,  11,  12,  11,  10,  11,  10,  11,  12,  11,  10,   9,\n",
       "         8,   9,   8,   7,   8,   7,   8,   7,   6,   7,   8,   9,   8,\n",
       "         9,  10,   9,   8,   9,   8,   9,   8,   9,  10,   9,   8,   9,\n",
       "         8,   9,   8,   7,   8,   7,   6,   5,   4,   3,   4,   3,   4,\n",
       "         5,   6,   7,   6,   7,   8,   7,   6,   7,   8,   9,  10,   9,\n",
       "         8,   9,   8,   9,  10,   9,   8,   9,   8,   7,   8,   7,   6,\n",
       "         7,   6,   5,   4,   5,   4,   3,   2,   1,   2,   1,   0,   1,\n",
       "         0,   1,   0,   1,   0,   1,   0,  -1,   0,  -1,   0,   1,   0,\n",
       "         1,   2,   3,   2,   1,   0,  -1,  -2,  -1,  -2,  -1,   0,   1,\n",
       "         0,   1,   2,   1,   2,   3,   2,   3,   4,   3,   2,   3,   2,\n",
       "         1,   2,   1,   2,   3,   2,   1,   2,   1,   2,   3,   4,   3,\n",
       "         4,   3,   2,   3,   4,   5,   6,   5,   4,   5,   6,   5,   4,\n",
       "         5,   4,   5,   4,   5,   4,   3,   2,   3,   2,   1,   0,  -1,\n",
       "         0,   1,   0,   1,   0,   1,   2,   1,   2,   1,   0,   1,   2,\n",
       "         3,   4,   3,   2,   1,   0,   1,   0,  -1,  -2,  -1,  -2,  -1,\n",
       "         0,  -1,   0,  -1,   0,   1,   0,   1,   0,  -1,  -2,  -1,   0,\n",
       "         1,   2,   3,   4,   5,   6,   7,   8,   7,   8,   7,   6,   7,\n",
       "         6,   5,   4,   3,   4,   3,   2,   3,   4,   5,   4,   3,   4,\n",
       "         5,   4,   3,   4,   5,   4,   5,   6,   5,   4,   3,   4,   3,\n",
       "         4,   5,   4,   5,   4,   5,   6,   5,   4,   3,   2,   1,   2,\n",
       "         3,   2,   3,   2,   3,   2,   1,   2,   3,   4,   3,   2,   3,\n",
       "         4,   5,   4,   5,   6,   7,   8,   7,   8,   9,   8,   9,  10,\n",
       "        11,  12,  13,  12,  11,  12,  11,  12,  11,  10,  11,  10,   9,\n",
       "         8,   9,  10,  11,  12,  13,  14,  15,  14,  13,  14,  13,  14,\n",
       "        13,  14,  15,  14,  13,  12,  11,  12,  13,  14,  13,  14,  15,\n",
       "        14,  13,  14,  13,  14,  15,  16,  15,  16,  15,  16,  15,  16,\n",
       "        17,  16,  17,  18,  17,  16,  17,  18,  19,  18,  17,  18,  19,\n",
       "        18,  17,  16,  15,  16,  17,  16,  15,  14,  13,  14,  15,  14,\n",
       "        15,  16,  15,  14,  13,  14,  15,  16,  17,  16,  17,  16,  17,\n",
       "        18,  17,  18,  19,  18,  19,  20,  19,  18,  17,  18,  19,  20,\n",
       "        21,  22,  21,  20,  19,  18,  19,  20,  21,  20,  21,  22,  21,\n",
       "        22,  21,  22,  23,  22,  21,  20,  21,  20,  19,  20,  19,  18,\n",
       "        17,  16,  15,  16,  15,  14,  15,  16,  17,  18,  17,  18,  17,\n",
       "        16,  15,  14,  15,  14,  13,  12,  11,  12,  13,  14,  13,  12,\n",
       "        11,  12,  13,  12,  13,  12,  13,  12,  11,  10,   9,   8,   7,\n",
       "         8,   9,   8,   9,  10,   9,   8,   7,   6,   5,   6,   5,   6,\n",
       "         7,   8,   7,   6,   5,   6,   5,   4,   3,   4,   3,   2,   3,\n",
       "         2,   1,   2,   3,   4,   5,   4,   3,   2,   3,   2,   1,   2,\n",
       "         1,   2,   3,   2,   3,   4,   5,   4,   5,   6,   7,   6,   5,\n",
       "         6,   7,   6,   5,   6,   5,   6,   5,   4,   5,   6,   7,   8,\n",
       "         7,   8,   9,   8,   9,   8,   7,   8,   7,   6,   5,   6,   5,\n",
       "         4,   5,   6,   7,   6,   5,   4,   5,   4,   3,   4,   5,   6,\n",
       "         7,   8,   7,   8,   7,   6,   5,   6,   5,   4,   3,   4,   3,\n",
       "         2,   3,   2,   1,   0,   1,   2,   1,   0,  -1,  -2,  -3,  -4,\n",
       "        -3,  -4,  -5,  -6,  -7,  -8,  -7,  -8,  -9,  -8,  -7,  -6,  -7,\n",
       "        -8,  -7,  -6,  -5,  -6,  -5,  -4,  -5,  -4,  -5,  -4,  -3,  -4,\n",
       "        -3,  -2,  -1,   0,  -1,  -2,  -3,  -4,  -3,  -2,  -3,  -4,  -3,\n",
       "        -2,  -3,  -4,  -5,  -6,  -7,  -8,  -7,  -8,  -7,  -6,  -5,  -4,\n",
       "        -3,  -4,  -3,  -4,  -3,  -2,  -3,  -4,  -3,  -4,  -3,  -2,  -3,\n",
       "        -2,  -3,  -2,  -1,  -2,  -1,   0,  -1,   0,   1,   2,   3,   2,\n",
       "         1,   0,   1,   2,   3,   4,   5,   6,   7,   8,   7,   8,   9,\n",
       "         8,   7,   6,   7,   6,   5,   6,   5,   4,   5,   6,   5,   4,\n",
       "         5,   6,   7,   8,   9,  10,   9,  10,  11,  10,  11,  10,   9,\n",
       "        10,   9,  10,  11,  12,  11,  10,   9,   8,   7,   6,   5,   6,\n",
       "         5,   4,   3,   2,   1,   2,   3,   2,   1,   0,  -1,  -2,  -1,\n",
       "        -2,  -3,  -4,  -3,  -2,  -3,  -2,  -1,  -2,  -1,  -2,  -3,  -2,\n",
       "        -3,  -4,  -5,  -4,  -5,  -4,  -5,  -4,  -5,  -4,  -3,  -4,  -5,\n",
       "        -4,  -5,  -4,  -5,  -6,  -7,  -8,  -9,  -8,  -7,  -6,  -5,  -6,\n",
       "        -7,  -8,  -9,  -8,  -7,  -6,  -7,  -8,  -9, -10, -11, -12, -11,\n",
       "       -10,  -9,  -8,  -9,  -8,  -9, -10, -11, -12, -13, -14, -13, -14,\n",
       "       -13, -14, -15, -14, -13, -12, -13, -14, -13, -14, -15, -16],\n",
       "      dtype=int32)"
      ]
     },
     "execution_count": 70,
     "metadata": {},
     "output_type": "execute_result"
    }
   ],
   "source": [
    "walk"
   ]
  },
  {
   "cell_type": "code",
   "execution_count": 62,
   "metadata": {},
   "outputs": [
    {
     "data": {
      "text/plain": [
       "-24"
      ]
     },
     "execution_count": 62,
     "metadata": {},
     "output_type": "execute_result"
    }
   ],
   "source": [
    "walk.min()"
   ]
  },
  {
   "cell_type": "code",
   "execution_count": 63,
   "metadata": {},
   "outputs": [
    {
     "data": {
      "text/plain": [
       "54"
      ]
     },
     "execution_count": 63,
     "metadata": {},
     "output_type": "execute_result"
    }
   ],
   "source": [
    "walk.max()"
   ]
  },
  {
   "cell_type": "code",
   "execution_count": 72,
   "metadata": {},
   "outputs": [
    {
     "data": {
      "text/plain": [
       "81"
      ]
     },
     "execution_count": 72,
     "metadata": {},
     "output_type": "execute_result"
    }
   ],
   "source": [
    "(np.abs(walk) >= 10).argmax()     #abs逐元素的计算整数，浮点数，复数的绝对值      argmax可以返回布尔值数组中最大值的第一个位置(True就是最大值)"
   ]
  },
  {
   "cell_type": "code",
   "execution_count": 73,
   "metadata": {},
   "outputs": [],
   "source": [
    "#一次性模拟多次随机漫步"
   ]
  },
  {
   "cell_type": "code",
   "execution_count": 74,
   "metadata": {},
   "outputs": [],
   "source": [
    "nwalks = 5000"
   ]
  },
  {
   "cell_type": "code",
   "execution_count": 75,
   "metadata": {},
   "outputs": [],
   "source": [
    "nsteps = 1000"
   ]
  },
  {
   "cell_type": "code",
   "execution_count": 76,
   "metadata": {},
   "outputs": [],
   "source": [
    "draws = np.random.randint(0, 2, size=(nwalks, nsteps))     #每一行相当于一次1000的随机漫步"
   ]
  },
  {
   "cell_type": "code",
   "execution_count": 77,
   "metadata": {},
   "outputs": [],
   "source": [
    "steps = np.where(draws > 0, 1, -1)"
   ]
  },
  {
   "cell_type": "code",
   "execution_count": 78,
   "metadata": {},
   "outputs": [],
   "source": [
    "walks = steps.cumsum(1)"
   ]
  },
  {
   "cell_type": "code",
   "execution_count": 79,
   "metadata": {},
   "outputs": [
    {
     "data": {
      "text/plain": [
       "array([[  1,   0,  -1, ...,  22,  21,  20],\n",
       "       [  1,   2,   1, ..., -36, -35, -34],\n",
       "       [  1,   0,   1, ..., -28, -27, -28],\n",
       "       ...,\n",
       "       [  1,   2,   3, ...,  18,  17,  18],\n",
       "       [ -1,   0,   1, ...,  10,  11,  10],\n",
       "       [ -1,  -2,  -3, ..., -22, -23, -24]], dtype=int32)"
      ]
     },
     "execution_count": 79,
     "metadata": {},
     "output_type": "execute_result"
    }
   ],
   "source": [
    "walks"
   ]
  },
  {
   "cell_type": "code",
   "execution_count": 80,
   "metadata": {},
   "outputs": [
    {
     "data": {
      "text/plain": [
       "126"
      ]
     },
     "execution_count": 80,
     "metadata": {},
     "output_type": "execute_result"
    }
   ],
   "source": [
    "walks.max()"
   ]
  },
  {
   "cell_type": "code",
   "execution_count": 86,
   "metadata": {},
   "outputs": [
    {
     "data": {
      "text/plain": [
       "-119"
      ]
     },
     "execution_count": 86,
     "metadata": {},
     "output_type": "execute_result"
    }
   ],
   "source": [
    "walks.min()"
   ]
  },
  {
   "cell_type": "code",
   "execution_count": null,
   "metadata": {},
   "outputs": [],
   "source": [
    "#计算出30或-30的最小穿越时间"
   ]
  },
  {
   "cell_type": "code",
   "execution_count": 83,
   "metadata": {},
   "outputs": [],
   "source": [
    "hists30 = (np.abs(walks) >= 30).any(1)    #any函数用于判断给定参数是否全部为 False，则返回 False，如果有一个为 True，则返回 True"
   ]
  },
  {
   "cell_type": "code",
   "execution_count": 84,
   "metadata": {},
   "outputs": [
    {
     "data": {
      "text/plain": [
       "array([ True,  True,  True, ..., False, False,  True])"
      ]
     },
     "execution_count": 84,
     "metadata": {},
     "output_type": "execute_result"
    }
   ],
   "source": [
    "hists30"
   ]
  },
  {
   "cell_type": "code",
   "execution_count": 85,
   "metadata": {},
   "outputs": [
    {
     "data": {
      "text/plain": [
       "3341"
      ]
     },
     "execution_count": 85,
     "metadata": {},
     "output_type": "execute_result"
    }
   ],
   "source": [
    "hists30.sum()"
   ]
  },
  {
   "cell_type": "code",
   "execution_count": 88,
   "metadata": {},
   "outputs": [],
   "source": [
    "crossing_times = (np.abs(walks[hists30]) >= 30).argmax(1)   #walks[hists30]根据布尔值索引选择True行"
   ]
  },
  {
   "cell_type": "code",
   "execution_count": 89,
   "metadata": {},
   "outputs": [
    {
     "data": {
      "text/plain": [
       "502.46662675845556"
      ]
     },
     "execution_count": 89,
     "metadata": {},
     "output_type": "execute_result"
    }
   ],
   "source": [
    "crossing_times.mean()     #均值"
   ]
  },
  {
   "cell_type": "code",
   "execution_count": 93,
   "metadata": {},
   "outputs": [],
   "source": [
    "#可以用其他分布实验随机漫步，如normal，再根据特定的均值和标准差即可生成正态分布下的随机步："
   ]
  },
  {
   "cell_type": "code",
   "execution_count": 95,
   "metadata": {},
   "outputs": [],
   "source": [
    "nwalks = 100"
   ]
  },
  {
   "cell_type": "code",
   "execution_count": null,
   "metadata": {},
   "outputs": [],
   "source": [
    "nsteps = 50"
   ]
  },
  {
   "cell_type": "code",
   "execution_count": 102,
   "metadata": {},
   "outputs": [],
   "source": [
    "steps_normal = np.random.normal(loc = 0, scale = 0.25, size = (nwalks, nsteps))"
   ]
  },
  {
   "cell_type": "code",
   "execution_count": 103,
   "metadata": {},
   "outputs": [
    {
     "data": {
      "text/plain": [
       "array([[-0.21047013,  0.08070815, -0.17326207, ..., -0.22225633,\n",
       "        -0.24694141, -0.23833937],\n",
       "       [-0.05210968,  0.20461712,  0.21266715, ...,  0.37476414,\n",
       "         0.40162073, -0.1314355 ],\n",
       "       [-0.12735862,  0.00628026,  0.10211408, ...,  0.65484838,\n",
       "        -0.03590127, -0.135724  ],\n",
       "       ...,\n",
       "       [ 0.32410342,  0.26040217, -0.00755745, ..., -0.28040491,\n",
       "         0.08726762,  0.54625957],\n",
       "       [-0.79548504, -0.18020523,  0.03449911, ...,  0.2169641 ,\n",
       "         0.24733847, -0.36095224],\n",
       "       [-0.34677602, -0.321942  , -0.42359548, ...,  0.30463516,\n",
       "         0.1280777 , -0.54632592]])"
      ]
     },
     "execution_count": 103,
     "metadata": {},
     "output_type": "execute_result"
    }
   ],
   "source": [
    "steps_normal"
   ]
  },
  {
   "cell_type": "code",
   "execution_count": 104,
   "metadata": {},
   "outputs": [],
   "source": [
    "steps_normal = np.where(steps_normal > 0, 1, -1)"
   ]
  },
  {
   "cell_type": "code",
   "execution_count": 105,
   "metadata": {},
   "outputs": [
    {
     "data": {
      "text/plain": [
       "array([[-1,  1, -1, ..., -1, -1, -1],\n",
       "       [-1,  1,  1, ...,  1,  1, -1],\n",
       "       [-1,  1,  1, ...,  1, -1, -1],\n",
       "       ...,\n",
       "       [ 1,  1, -1, ..., -1,  1,  1],\n",
       "       [-1, -1,  1, ...,  1,  1, -1],\n",
       "       [-1, -1, -1, ...,  1,  1, -1]])"
      ]
     },
     "execution_count": 105,
     "metadata": {},
     "output_type": "execute_result"
    }
   ],
   "source": [
    "steps_normal"
   ]
  },
  {
   "cell_type": "code",
   "execution_count": 106,
   "metadata": {},
   "outputs": [],
   "source": [
    "walks = steps_normal.cumsum(1)"
   ]
  },
  {
   "cell_type": "code",
   "execution_count": 107,
   "metadata": {},
   "outputs": [
    {
     "data": {
      "text/plain": [
       "array([[ -1,   0,  -1, ..., -14, -15, -16],\n",
       "       [ -1,   0,   1, ...,  18,  19,  18],\n",
       "       [ -1,   0,   1, ...,  34,  33,  32],\n",
       "       ...,\n",
       "       [  1,   2,   1, ...,   8,   9,  10],\n",
       "       [ -1,  -2,  -1, ...,  52,  53,  52],\n",
       "       [ -1,  -2,  -3, ...,   0,   1,   0]], dtype=int32)"
      ]
     },
     "execution_count": 107,
     "metadata": {},
     "output_type": "execute_result"
    }
   ],
   "source": [
    "walks"
   ]
  },
  {
   "cell_type": "code",
   "execution_count": null,
   "metadata": {},
   "outputs": [],
   "source": []
  }
 ],
 "metadata": {
  "kernelspec": {
   "display_name": "Python 3",
   "language": "python",
   "name": "python3"
  },
  "language_info": {
   "codemirror_mode": {
    "name": "ipython",
    "version": 3
   },
   "file_extension": ".py",
   "mimetype": "text/x-python",
   "name": "python",
   "nbconvert_exporter": "python",
   "pygments_lexer": "ipython3",
   "version": "3.6.5"
  }
 },
 "nbformat": 4,
 "nbformat_minor": 2
}
